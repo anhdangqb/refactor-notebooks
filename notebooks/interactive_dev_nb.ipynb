{
 "cells": [
  {
   "cell_type": "code",
   "execution_count": 2,
   "id": "c3c8d290",
   "metadata": {
    "ExecuteTime": {
     "end_time": "2023-01-18T11:20:42.344996Z",
     "start_time": "2023-01-18T11:20:42.339576Z"
    }
   },
   "outputs": [],
   "source": [
    "import os\n",
    "import sys\n",
    "sys.path.insert(0, os.path.abspath(\"../src\"))\n",
    "\n",
    "# Import local module\n",
    "import pandas as pd\n",
    "from utils import print_hello_world_by_name\n",
    "from ingest import process_data"
   ]
  },
  {
   "cell_type": "code",
   "execution_count": 3,
   "id": "77a13ea5",
   "metadata": {
    "ExecuteTime": {
     "end_time": "2023-01-18T10:44:06.030031Z",
     "start_time": "2023-01-18T10:44:06.013369Z"
    }
   },
   "outputs": [
    {
     "data": {
      "text/plain": [
       "'Hello World, Mai Anh!'"
      ]
     },
     "execution_count": 3,
     "metadata": {},
     "output_type": "execute_result"
    }
   ],
   "source": [
    "print_hello_world_by_name(\"Mai Anh\")"
   ]
  },
  {
   "cell_type": "code",
   "execution_count": 4,
   "id": "2e8dcfbe",
   "metadata": {
    "ExecuteTime": {
     "end_time": "2023-01-18T11:20:07.174328Z",
     "start_time": "2023-01-18T11:20:06.390863Z"
    }
   },
   "outputs": [
    {
     "name": "stdout",
     "output_type": "stream",
     "text": [
      "online_retail.xlsx     online_retail.xlsx.dvc\n"
     ]
    }
   ],
   "source": [
    "!ls ../data/01_raw/"
   ]
  },
  {
   "cell_type": "code",
   "execution_count": 5,
   "id": "72b60f7e",
   "metadata": {
    "ExecuteTime": {
     "end_time": "2023-01-18T11:21:03.066272Z",
     "start_time": "2023-01-18T11:20:56.107494Z"
    }
   },
   "outputs": [
    {
     "name": "stdout",
     "output_type": "stream",
     "text": [
      "<class 'pandas.core.frame.DataFrame'>\n",
      "RangeIndex: 46431 entries, 0 to 46430\n",
      "Data columns (total 8 columns):\n",
      " #   Column       Non-Null Count  Dtype         \n",
      "---  ------       --------------  -----         \n",
      " 0   InvoiceNo    46431 non-null  object        \n",
      " 1   StockCode    46431 non-null  object        \n",
      " 2   Description  46431 non-null  object        \n",
      " 3   Quantity     46431 non-null  int64         \n",
      " 4   InvoiceDate  46431 non-null  datetime64[ns]\n",
      " 5   UnitPrice    46431 non-null  float64       \n",
      " 6   CustomerID   44951 non-null  float64       \n",
      " 7   Country      46431 non-null  object        \n",
      "dtypes: datetime64[ns](1), float64(2), int64(1), object(4)\n",
      "memory usage: 2.8+ MB\n"
     ]
    }
   ],
   "source": [
    "# Ingest\n",
    "df_raw = pd.read_excel('../data/01_raw/online_retail.xlsx')\n",
    "df_raw.info()"
   ]
  },
  {
   "cell_type": "code",
   "execution_count": 6,
   "id": "7d36a40e",
   "metadata": {
    "ExecuteTime": {
     "end_time": "2023-01-18T11:21:19.365156Z",
     "start_time": "2023-01-18T11:21:19.265424Z"
    }
   },
   "outputs": [
    {
     "data": {
      "text/html": [
       "<div>\n",
       "<style scoped>\n",
       "    .dataframe tbody tr th:only-of-type {\n",
       "        vertical-align: middle;\n",
       "    }\n",
       "\n",
       "    .dataframe tbody tr th {\n",
       "        vertical-align: top;\n",
       "    }\n",
       "\n",
       "    .dataframe thead th {\n",
       "        text-align: right;\n",
       "    }\n",
       "</style>\n",
       "<table border=\"1\" class=\"dataframe\">\n",
       "  <thead>\n",
       "    <tr style=\"text-align: right;\">\n",
       "      <th></th>\n",
       "      <th>count</th>\n",
       "      <th>mean</th>\n",
       "      <th>std</th>\n",
       "      <th>min</th>\n",
       "      <th>25%</th>\n",
       "      <th>50%</th>\n",
       "      <th>75%</th>\n",
       "      <th>max</th>\n",
       "    </tr>\n",
       "  </thead>\n",
       "  <tbody>\n",
       "    <tr>\n",
       "      <th>Quantity</th>\n",
       "      <td>46431.0</td>\n",
       "      <td>19.655424</td>\n",
       "      <td>47.233708</td>\n",
       "      <td>-624.0</td>\n",
       "      <td>4.00</td>\n",
       "      <td>10.00</td>\n",
       "      <td>16.00</td>\n",
       "      <td>2400.00</td>\n",
       "    </tr>\n",
       "    <tr>\n",
       "      <th>UnitPrice</th>\n",
       "      <td>46431.0</td>\n",
       "      <td>5.450852</td>\n",
       "      <td>63.360527</td>\n",
       "      <td>0.0</td>\n",
       "      <td>1.25</td>\n",
       "      <td>1.95</td>\n",
       "      <td>3.75</td>\n",
       "      <td>4161.06</td>\n",
       "    </tr>\n",
       "    <tr>\n",
       "      <th>CustomerID</th>\n",
       "      <td>44951.0</td>\n",
       "      <td>13193.105203</td>\n",
       "      <td>1085.609495</td>\n",
       "      <td>12347.0</td>\n",
       "      <td>12484.00</td>\n",
       "      <td>12658.00</td>\n",
       "      <td>14156.00</td>\n",
       "      <td>17844.00</td>\n",
       "    </tr>\n",
       "  </tbody>\n",
       "</table>\n",
       "</div>"
      ],
      "text/plain": [
       "              count          mean          std      min       25%       50%  \\\n",
       "Quantity    46431.0     19.655424    47.233708   -624.0      4.00     10.00   \n",
       "UnitPrice   46431.0      5.450852    63.360527      0.0      1.25      1.95   \n",
       "CustomerID  44951.0  13193.105203  1085.609495  12347.0  12484.00  12658.00   \n",
       "\n",
       "                 75%       max  \n",
       "Quantity       16.00   2400.00  \n",
       "UnitPrice       3.75   4161.06  \n",
       "CustomerID  14156.00  17844.00  "
      ]
     },
     "execution_count": 6,
     "metadata": {},
     "output_type": "execute_result"
    }
   ],
   "source": [
    "df_raw.describe().T"
   ]
  },
  {
   "cell_type": "code",
   "execution_count": 7,
   "id": "b34e1a15",
   "metadata": {
    "ExecuteTime": {
     "end_time": "2023-01-18T11:21:35.712722Z",
     "start_time": "2023-01-18T11:21:35.709115Z"
    }
   },
   "outputs": [
    {
     "name": "stdout",
     "output_type": "stream",
     "text": [
      "Help on function process_data in module ingest:\n",
      "\n",
      "process_data(df: pandas.core.frame.DataFrame, null_cols: list, outliers_cols: Dict) -> pandas.core.frame.DataFrame\n",
      "    Process data for analysis\n",
      "    1. Remove null values\n",
      "    2. Remove outliers\n",
      "    3. Transform date columns\n",
      "    Args:\n",
      "        - df (pd.DataFrame): Dataframe to process\n",
      "    Return:\n",
      "        - df (pd.DataFrame): Processed dataframe\n",
      "\n"
     ]
    }
   ],
   "source": [
    "help(process_data)"
   ]
  },
  {
   "cell_type": "code",
   "execution_count": 8,
   "id": "26cde74c",
   "metadata": {
    "ExecuteTime": {
     "end_time": "2023-01-18T11:23:25.840018Z",
     "start_time": "2023-01-18T11:23:25.823334Z"
    }
   },
   "outputs": [],
   "source": [
    "outlier_policies = {\n",
    "    'UnitPrice': [0, 10],\n",
    "    'Quantity': [0, 50]\n",
    "}\n",
    "\n",
    "df_clean = process_data(df_raw,\n",
    "                       null_cols=['CustomerID'],\n",
    "                       outliers_cols=outlier_policies)"
   ]
  },
  {
   "cell_type": "code",
   "execution_count": 9,
   "id": "32674c8a",
   "metadata": {
    "ExecuteTime": {
     "end_time": "2023-01-18T11:23:35.204020Z",
     "start_time": "2023-01-18T11:23:35.165199Z"
    }
   },
   "outputs": [
    {
     "data": {
      "text/html": [
       "<div>\n",
       "<style scoped>\n",
       "    .dataframe tbody tr th:only-of-type {\n",
       "        vertical-align: middle;\n",
       "    }\n",
       "\n",
       "    .dataframe tbody tr th {\n",
       "        vertical-align: top;\n",
       "    }\n",
       "\n",
       "    .dataframe thead th {\n",
       "        text-align: right;\n",
       "    }\n",
       "</style>\n",
       "<table border=\"1\" class=\"dataframe\">\n",
       "  <thead>\n",
       "    <tr style=\"text-align: right;\">\n",
       "      <th></th>\n",
       "      <th>count</th>\n",
       "      <th>mean</th>\n",
       "      <th>std</th>\n",
       "      <th>min</th>\n",
       "      <th>25%</th>\n",
       "      <th>50%</th>\n",
       "      <th>75%</th>\n",
       "      <th>max</th>\n",
       "    </tr>\n",
       "  </thead>\n",
       "  <tbody>\n",
       "    <tr>\n",
       "      <th>Quantity</th>\n",
       "      <td>44951.0</td>\n",
       "      <td>14.012325</td>\n",
       "      <td>13.857631</td>\n",
       "      <td>0.0</td>\n",
       "      <td>4.00</td>\n",
       "      <td>10.00</td>\n",
       "      <td>16.00</td>\n",
       "      <td>50.0</td>\n",
       "    </tr>\n",
       "    <tr>\n",
       "      <th>UnitPrice</th>\n",
       "      <td>44951.0</td>\n",
       "      <td>3.009135</td>\n",
       "      <td>2.758612</td>\n",
       "      <td>0.0</td>\n",
       "      <td>1.25</td>\n",
       "      <td>1.95</td>\n",
       "      <td>3.75</td>\n",
       "      <td>10.0</td>\n",
       "    </tr>\n",
       "    <tr>\n",
       "      <th>CustomerID</th>\n",
       "      <td>44951.0</td>\n",
       "      <td>13193.105203</td>\n",
       "      <td>1085.609495</td>\n",
       "      <td>12347.0</td>\n",
       "      <td>12484.00</td>\n",
       "      <td>12658.00</td>\n",
       "      <td>14156.00</td>\n",
       "      <td>17844.0</td>\n",
       "    </tr>\n",
       "  </tbody>\n",
       "</table>\n",
       "</div>"
      ],
      "text/plain": [
       "              count          mean          std      min       25%       50%  \\\n",
       "Quantity    44951.0     14.012325    13.857631      0.0      4.00     10.00   \n",
       "UnitPrice   44951.0      3.009135     2.758612      0.0      1.25      1.95   \n",
       "CustomerID  44951.0  13193.105203  1085.609495  12347.0  12484.00  12658.00   \n",
       "\n",
       "                 75%      max  \n",
       "Quantity       16.00     50.0  \n",
       "UnitPrice       3.75     10.0  \n",
       "CustomerID  14156.00  17844.0  "
      ]
     },
     "execution_count": 9,
     "metadata": {},
     "output_type": "execute_result"
    }
   ],
   "source": [
    "df_clean.describe().T"
   ]
  },
  {
   "cell_type": "code",
   "execution_count": null,
   "id": "cb7a5909",
   "metadata": {},
   "outputs": [],
   "source": []
  }
 ],
 "metadata": {
  "kernelspec": {
   "display_name": "demo-notebook-refactor",
   "language": "python",
   "name": "python3"
  },
  "language_info": {
   "codemirror_mode": {
    "name": "ipython",
    "version": 3
   },
   "file_extension": ".py",
   "mimetype": "text/x-python",
   "name": "python",
   "nbconvert_exporter": "python",
   "pygments_lexer": "ipython3",
   "version": "3.10.9"
  },
  "latex_envs": {
   "LaTeX_envs_menu_present": true,
   "autoclose": false,
   "autocomplete": true,
   "bibliofile": "biblio.bib",
   "cite_by": "apalike",
   "current_citInitial": 1,
   "eqLabelWithNumbers": true,
   "eqNumInitial": 1,
   "hotkeys": {
    "equation": "Ctrl-E",
    "itemize": "Ctrl-I"
   },
   "labels_anchors": false,
   "latex_user_defs": false,
   "report_style_numbering": false,
   "user_envs_cfg": false
  },
  "toc": {
   "base_numbering": 1,
   "nav_menu": {},
   "number_sections": true,
   "sideBar": true,
   "skip_h1_title": false,
   "title_cell": "Table of Contents",
   "title_sidebar": "Contents",
   "toc_cell": false,
   "toc_position": {},
   "toc_section_display": true,
   "toc_window_display": false
  },
  "varInspector": {
   "cols": {
    "lenName": 16,
    "lenType": 16,
    "lenVar": 40
   },
   "kernels_config": {
    "python": {
     "delete_cmd_postfix": "",
     "delete_cmd_prefix": "del ",
     "library": "var_list.py",
     "varRefreshCmd": "print(var_dic_list())"
    },
    "r": {
     "delete_cmd_postfix": ") ",
     "delete_cmd_prefix": "rm(",
     "library": "var_list.r",
     "varRefreshCmd": "cat(var_dic_list()) "
    }
   },
   "types_to_exclude": [
    "module",
    "function",
    "builtin_function_or_method",
    "instance",
    "_Feature"
   ],
   "window_display": false
  },
  "vscode": {
   "interpreter": {
    "hash": "fe499eaee30ab486884091db98fd06f34dd13a56b3fd15fdcb87a6046d8be81b"
   }
  }
 },
 "nbformat": 4,
 "nbformat_minor": 5
}
