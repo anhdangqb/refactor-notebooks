{
 "cells": [
  {
   "cell_type": "code",
   "execution_count": 1,
   "id": "d90fef39",
   "metadata": {
    "ExecuteTime": {
     "end_time": "2023-01-18T09:07:01.156399Z",
     "start_time": "2023-01-18T09:06:59.832089Z"
    }
   },
   "outputs": [],
   "source": [
    "# To import local python module\n",
    "## If you reuse local module a lot, consider to convert them to proper Python pkg with `pip` manager\n",
    "import os\n",
    "import sys\n",
    "sys.path.insert(0, os.path.abspath(\"../src\"))\n",
    "\n",
    "# Import the function from /src\n",
    "from utils import print_hello_world\n",
    "from ingest import ingest_clean_data\n",
    "import pandas as pd "
   ]
  },
  {
   "cell_type": "code",
   "execution_count": 2,
   "id": "8149efab",
   "metadata": {
    "ExecuteTime": {
     "end_time": "2023-01-18T09:07:04.654906Z",
     "start_time": "2023-01-18T09:07:04.639358Z"
    }
   },
   "outputs": [
    {
     "data": {
      "text/plain": [
       "'Hello World'"
      ]
     },
     "execution_count": 2,
     "metadata": {},
     "output_type": "execute_result"
    }
   ],
   "source": [
    "print_hello_world()"
   ]
  },
  {
   "cell_type": "code",
   "execution_count": 3,
   "id": "ac0f0a7c",
   "metadata": {
    "ExecuteTime": {
     "end_time": "2023-01-18T09:07:05.514873Z",
     "start_time": "2023-01-18T09:07:05.510213Z"
    }
   },
   "outputs": [
    {
     "name": "stdout",
     "output_type": "stream",
     "text": [
      "Help on function ingest_clean_data in module ingest:\n",
      "\n",
      "ingest_clean_data(raw_path: str, rm_null_cols=['CustomerID'], ingest_dtype_dict={'CustomerID': <class 'str'>}, outlier_policy={'use_winsorize': False, 'q_cut': [0.05, 0.95], 'outliers_cols': {'Quantity': [0, 40], 'UnitPrice': [0, 10]}}) -> pandas.core.frame.DataFrame\n",
      "    Ingest function for Online Retail data\n",
      "    1. Ingest excel file\n",
      "    2. Remove nulls\n",
      "    3. Winsorize\n",
      "    4. Calculate order value\n",
      "    Args:\n",
      "        - raw_path: str\n",
      "        - rm_null_cols: list\n",
      "        - ingest_dtype_dict: dict\n",
      "        - outlier_policy: dict\n",
      "    Return:\n",
      "        - pd.DataFrame\n",
      "\n"
     ]
    }
   ],
   "source": [
    "help(ingest_clean_data)"
   ]
  },
  {
   "cell_type": "code",
   "execution_count": 8,
   "id": "426f076b",
   "metadata": {
    "ExecuteTime": {
     "end_time": "2023-01-18T09:09:40.059837Z",
     "start_time": "2023-01-18T09:09:39.370777Z"
    }
   },
   "outputs": [
    {
     "name": "stdout",
     "output_type": "stream",
     "text": [
      "online_retail.xlsx     online_retail.xlsx.dvc\r\n"
     ]
    }
   ],
   "source": [
    "!ls ../data/01_raw"
   ]
  },
  {
   "cell_type": "code",
   "execution_count": 5,
   "id": "33e8130f",
   "metadata": {
    "ExecuteTime": {
     "end_time": "2023-01-18T09:07:10.025557Z",
     "start_time": "2023-01-18T09:07:10.019958Z"
    }
   },
   "outputs": [],
   "source": [
    "outlier_policy = {\n",
    "    'use_winsorize': False,\n",
    "    'q_cut': [0.05, 0.95],\n",
    "    'outliers_cols': {\n",
    "        \"Quantity\": [0, 40],\n",
    "        'UnitPrice': [0, 10]\n",
    "    }\n",
    "}"
   ]
  },
  {
   "cell_type": "code",
   "execution_count": 9,
   "id": "90437a41",
   "metadata": {
    "ExecuteTime": {
     "end_time": "2023-01-18T09:09:48.414853Z",
     "start_time": "2023-01-18T09:09:44.517319Z"
    }
   },
   "outputs": [
    {
     "data": {
      "text/html": [
       "<div>\n",
       "<style scoped>\n",
       "    .dataframe tbody tr th:only-of-type {\n",
       "        vertical-align: middle;\n",
       "    }\n",
       "\n",
       "    .dataframe tbody tr th {\n",
       "        vertical-align: top;\n",
       "    }\n",
       "\n",
       "    .dataframe thead th {\n",
       "        text-align: right;\n",
       "    }\n",
       "</style>\n",
       "<table border=\"1\" class=\"dataframe\">\n",
       "  <thead>\n",
       "    <tr style=\"text-align: right;\">\n",
       "      <th></th>\n",
       "      <th>InvoiceNo</th>\n",
       "      <th>StockCode</th>\n",
       "      <th>Description</th>\n",
       "      <th>Quantity</th>\n",
       "      <th>InvoiceDate</th>\n",
       "      <th>UnitPrice</th>\n",
       "      <th>CustomerID</th>\n",
       "      <th>Country</th>\n",
       "      <th>order_value</th>\n",
       "    </tr>\n",
       "  </thead>\n",
       "  <tbody>\n",
       "    <tr>\n",
       "      <th>0</th>\n",
       "      <td>536370</td>\n",
       "      <td>22728</td>\n",
       "      <td>ALARM CLOCK BAKELIKE PINK</td>\n",
       "      <td>24</td>\n",
       "      <td>2010-12-01 08:45:00</td>\n",
       "      <td>3.75</td>\n",
       "      <td>12583</td>\n",
       "      <td>France</td>\n",
       "      <td>90.0</td>\n",
       "    </tr>\n",
       "    <tr>\n",
       "      <th>1</th>\n",
       "      <td>536370</td>\n",
       "      <td>22727</td>\n",
       "      <td>ALARM CLOCK BAKELIKE RED</td>\n",
       "      <td>24</td>\n",
       "      <td>2010-12-01 08:45:00</td>\n",
       "      <td>3.75</td>\n",
       "      <td>12583</td>\n",
       "      <td>France</td>\n",
       "      <td>90.0</td>\n",
       "    </tr>\n",
       "    <tr>\n",
       "      <th>2</th>\n",
       "      <td>536370</td>\n",
       "      <td>22726</td>\n",
       "      <td>ALARM CLOCK BAKELIKE GREEN</td>\n",
       "      <td>12</td>\n",
       "      <td>2010-12-01 08:45:00</td>\n",
       "      <td>3.75</td>\n",
       "      <td>12583</td>\n",
       "      <td>France</td>\n",
       "      <td>45.0</td>\n",
       "    </tr>\n",
       "    <tr>\n",
       "      <th>3</th>\n",
       "      <td>536370</td>\n",
       "      <td>21724</td>\n",
       "      <td>PANDA AND BUNNIES STICKER SHEET</td>\n",
       "      <td>12</td>\n",
       "      <td>2010-12-01 08:45:00</td>\n",
       "      <td>0.85</td>\n",
       "      <td>12583</td>\n",
       "      <td>France</td>\n",
       "      <td>10.2</td>\n",
       "    </tr>\n",
       "    <tr>\n",
       "      <th>4</th>\n",
       "      <td>536370</td>\n",
       "      <td>21883</td>\n",
       "      <td>STARS GIFT TAPE</td>\n",
       "      <td>24</td>\n",
       "      <td>2010-12-01 08:45:00</td>\n",
       "      <td>0.65</td>\n",
       "      <td>12583</td>\n",
       "      <td>France</td>\n",
       "      <td>15.6</td>\n",
       "    </tr>\n",
       "  </tbody>\n",
       "</table>\n",
       "</div>"
      ],
      "text/plain": [
       "  InvoiceNo StockCode                      Description  Quantity  \\\n",
       "0    536370     22728        ALARM CLOCK BAKELIKE PINK        24   \n",
       "1    536370     22727        ALARM CLOCK BAKELIKE RED         24   \n",
       "2    536370     22726       ALARM CLOCK BAKELIKE GREEN        12   \n",
       "3    536370     21724  PANDA AND BUNNIES STICKER SHEET        12   \n",
       "4    536370     21883                 STARS GIFT TAPE         24   \n",
       "\n",
       "          InvoiceDate  UnitPrice CustomerID Country  order_value  \n",
       "0 2010-12-01 08:45:00       3.75      12583  France         90.0  \n",
       "1 2010-12-01 08:45:00       3.75      12583  France         90.0  \n",
       "2 2010-12-01 08:45:00       3.75      12583  France         45.0  \n",
       "3 2010-12-01 08:45:00       0.85      12583  France         10.2  \n",
       "4 2010-12-01 08:45:00       0.65      12583  France         15.6  "
      ]
     },
     "execution_count": 9,
     "metadata": {},
     "output_type": "execute_result"
    }
   ],
   "source": [
    "df_process = ingest_clean_data(\n",
    "    raw_path= '../data/01_raw/online_retail.xlsx',\n",
    "    rm_null_cols=['CustomerID'],\n",
    "    ingest_dtype_dict={'CustomerID': str},\n",
    "    outlier_policy=outlier_policy\n",
    ")\n",
    "df_process.head()"
   ]
  },
  {
   "cell_type": "code",
   "execution_count": 7,
   "id": "eceae402",
   "metadata": {
    "ExecuteTime": {
     "end_time": "2023-01-18T09:07:18.997438Z",
     "start_time": "2023-01-18T09:07:18.966931Z"
    }
   },
   "outputs": [
    {
     "data": {
      "text/html": [
       "<div>\n",
       "<style scoped>\n",
       "    .dataframe tbody tr th:only-of-type {\n",
       "        vertical-align: middle;\n",
       "    }\n",
       "\n",
       "    .dataframe tbody tr th {\n",
       "        vertical-align: top;\n",
       "    }\n",
       "\n",
       "    .dataframe thead th {\n",
       "        text-align: right;\n",
       "    }\n",
       "</style>\n",
       "<table border=\"1\" class=\"dataframe\">\n",
       "  <thead>\n",
       "    <tr style=\"text-align: right;\">\n",
       "      <th></th>\n",
       "      <th>count</th>\n",
       "      <th>mean</th>\n",
       "      <th>std</th>\n",
       "      <th>min</th>\n",
       "      <th>25%</th>\n",
       "      <th>50%</th>\n",
       "      <th>75%</th>\n",
       "      <th>max</th>\n",
       "    </tr>\n",
       "  </thead>\n",
       "  <tbody>\n",
       "    <tr>\n",
       "      <th>Quantity</th>\n",
       "      <td>44951.0</td>\n",
       "      <td>13.095437</td>\n",
       "      <td>11.608712</td>\n",
       "      <td>0.0</td>\n",
       "      <td>4.00</td>\n",
       "      <td>10.00</td>\n",
       "      <td>16.00</td>\n",
       "      <td>40.0</td>\n",
       "    </tr>\n",
       "    <tr>\n",
       "      <th>UnitPrice</th>\n",
       "      <td>44951.0</td>\n",
       "      <td>3.009135</td>\n",
       "      <td>2.758612</td>\n",
       "      <td>0.0</td>\n",
       "      <td>1.25</td>\n",
       "      <td>1.95</td>\n",
       "      <td>3.75</td>\n",
       "      <td>10.0</td>\n",
       "    </tr>\n",
       "    <tr>\n",
       "      <th>order_value</th>\n",
       "      <td>44951.0</td>\n",
       "      <td>24.649445</td>\n",
       "      <td>28.755624</td>\n",
       "      <td>0.0</td>\n",
       "      <td>11.60</td>\n",
       "      <td>17.00</td>\n",
       "      <td>25.20</td>\n",
       "      <td>400.0</td>\n",
       "    </tr>\n",
       "  </tbody>\n",
       "</table>\n",
       "</div>"
      ],
      "text/plain": [
       "               count       mean        std  min    25%    50%    75%    max\n",
       "Quantity     44951.0  13.095437  11.608712  0.0   4.00  10.00  16.00   40.0\n",
       "UnitPrice    44951.0   3.009135   2.758612  0.0   1.25   1.95   3.75   10.0\n",
       "order_value  44951.0  24.649445  28.755624  0.0  11.60  17.00  25.20  400.0"
      ]
     },
     "execution_count": 7,
     "metadata": {},
     "output_type": "execute_result"
    }
   ],
   "source": [
    "df_process.describe().T"
   ]
  },
  {
   "cell_type": "code",
   "execution_count": null,
   "id": "28de9e7a",
   "metadata": {},
   "outputs": [],
   "source": []
  }
 ],
 "metadata": {
  "kernelspec": {
   "display_name": "Python 3 (ipykernel)",
   "language": "python",
   "name": "python3"
  },
  "language_info": {
   "codemirror_mode": {
    "name": "ipython",
    "version": 3
   },
   "file_extension": ".py",
   "mimetype": "text/x-python",
   "name": "python",
   "nbconvert_exporter": "python",
   "pygments_lexer": "ipython3",
   "version": "3.8.8"
  },
  "latex_envs": {
   "LaTeX_envs_menu_present": true,
   "autoclose": false,
   "autocomplete": true,
   "bibliofile": "biblio.bib",
   "cite_by": "apalike",
   "current_citInitial": 1,
   "eqLabelWithNumbers": true,
   "eqNumInitial": 1,
   "hotkeys": {
    "equation": "Ctrl-E",
    "itemize": "Ctrl-I"
   },
   "labels_anchors": false,
   "latex_user_defs": false,
   "report_style_numbering": false,
   "user_envs_cfg": false
  },
  "toc": {
   "base_numbering": 1,
   "nav_menu": {},
   "number_sections": true,
   "sideBar": true,
   "skip_h1_title": false,
   "title_cell": "Table of Contents",
   "title_sidebar": "Contents",
   "toc_cell": false,
   "toc_position": {},
   "toc_section_display": true,
   "toc_window_display": false
  },
  "varInspector": {
   "cols": {
    "lenName": 16,
    "lenType": 16,
    "lenVar": 40
   },
   "kernels_config": {
    "python": {
     "delete_cmd_postfix": "",
     "delete_cmd_prefix": "del ",
     "library": "var_list.py",
     "varRefreshCmd": "print(var_dic_list())"
    },
    "r": {
     "delete_cmd_postfix": ") ",
     "delete_cmd_prefix": "rm(",
     "library": "var_list.r",
     "varRefreshCmd": "cat(var_dic_list()) "
    }
   },
   "types_to_exclude": [
    "module",
    "function",
    "builtin_function_or_method",
    "instance",
    "_Feature"
   ],
   "window_display": false
  }
 },
 "nbformat": 4,
 "nbformat_minor": 5
}
